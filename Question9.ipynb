{
 "cells": [
  {
   "cell_type": "code",
   "execution_count": 1,
   "id": "676d2858",
   "metadata": {},
   "outputs": [],
   "source": [
    "import pandas as pd\n",
    "import re\n",
    "import os\n",
    "import sklearn\n",
    "from tqdm import tqdm\n",
    "from sklearn.model_selection import train_test_split\n",
    "from sklearn.feature_extraction.text import TfidfVectorizer\n",
    "from sklearn.naive_bayes import MultinomialNB"
   ]
  },
  {
   "cell_type": "code",
   "execution_count": 2,
   "id": "fc2f99e2",
   "metadata": {},
   "outputs": [],
   "source": [
    "path_1 = r'D:\\enron6\\ham'\n",
    "items = os.listdir(path_1)"
   ]
  },
  {
   "cell_type": "code",
   "execution_count": 3,
   "id": "f4862818",
   "metadata": {},
   "outputs": [
    {
     "name": "stderr",
     "output_type": "stream",
     "text": [
      "100%|█████████████████████████████████████████████████████████████████████████████| 1500/1500 [00:02<00:00, 583.68it/s]\n"
     ]
    }
   ],
   "source": [
    "data = pd.DataFrame(columns=['text'])\n",
    "i = 0\n",
    "for item in tqdm(items):\n",
    "    path = os.path.join('D:\\enron6\\ham', item)\n",
    "    text=open(path)\n",
    "    data.loc[i] = [text.read()]\n",
    "    i = i+1"
   ]
  },
  {
   "cell_type": "code",
   "execution_count": 4,
   "id": "3ea23675",
   "metadata": {},
   "outputs": [],
   "source": [
    "df = pd.DataFrame(columns=['label'])\n",
    "for i in range(0,1500):\n",
    "    df.loc[i] = 0\n",
    "newdf_1 = pd.concat([data,df], axis=1)"
   ]
  },
  {
   "cell_type": "code",
   "execution_count": 5,
   "id": "c67539f3",
   "metadata": {},
   "outputs": [],
   "source": [
    "path_2 = r'D:\\enron6\\spam'\n",
    "samples = os.listdir(path_2)"
   ]
  },
  {
   "cell_type": "code",
   "execution_count": 6,
   "id": "02700ae9",
   "metadata": {},
   "outputs": [
    {
     "name": "stderr",
     "output_type": "stream",
     "text": [
      "100%|█████████████████████████████████████████████████████████████████████████████| 4500/4500 [00:07<00:00, 627.12it/s]\n"
     ]
    }
   ],
   "source": [
    "data_1 = pd.DataFrame(columns=['text'])\n",
    "i = 0\n",
    "for sample in tqdm(samples):\n",
    "    path = os.path.join('D:\\enron6\\spam', sample)\n",
    "    newtext=open(path, encoding='gb18030', errors='ignore')\n",
    "    data_1.loc[i] = [newtext.read()]\n",
    "    i = i+1\n",
    "df = pd.DataFrame(columns=['label'])\n",
    "for i in range(0,4500):\n",
    "    df.loc[i] = 1\n",
    "newdf_2 = pd.concat([data_1,df], axis=1)"
   ]
  },
  {
   "cell_type": "code",
   "execution_count": 7,
   "id": "b75ab2e2",
   "metadata": {},
   "outputs": [],
   "source": [
    "newdf = pd.concat([newdf_1,newdf_2], axis=0, ignore_index = 'True')"
   ]
  },
  {
   "cell_type": "code",
   "execution_count": 8,
   "id": "27b81330",
   "metadata": {},
   "outputs": [
    {
     "data": {
      "text/html": [
       "<div>\n",
       "<style scoped>\n",
       "    .dataframe tbody tr th:only-of-type {\n",
       "        vertical-align: middle;\n",
       "    }\n",
       "\n",
       "    .dataframe tbody tr th {\n",
       "        vertical-align: top;\n",
       "    }\n",
       "\n",
       "    .dataframe thead th {\n",
       "        text-align: right;\n",
       "    }\n",
       "</style>\n",
       "<table border=\"1\" class=\"dataframe\">\n",
       "  <thead>\n",
       "    <tr style=\"text-align: right;\">\n",
       "      <th></th>\n",
       "      <th>text</th>\n",
       "      <th>label</th>\n",
       "    </tr>\n",
       "  </thead>\n",
       "  <tbody>\n",
       "    <tr>\n",
       "      <th>0</th>\n",
       "      <td>Subject: key dates and impact of upcoming sap ...</td>\n",
       "      <td>0</td>\n",
       "    </tr>\n",
       "    <tr>\n",
       "      <th>1</th>\n",
       "      <td>Subject: transportation to resort\\nplease be i...</td>\n",
       "      <td>0</td>\n",
       "    </tr>\n",
       "    <tr>\n",
       "      <th>2</th>\n",
       "      <td>Subject: human resources organization\\nas enro...</td>\n",
       "      <td>0</td>\n",
       "    </tr>\n",
       "    <tr>\n",
       "      <th>3</th>\n",
       "      <td>Subject: what do you want to know today ?\\n\" a...</td>\n",
       "      <td>0</td>\n",
       "    </tr>\n",
       "    <tr>\n",
       "      <th>4</th>\n",
       "      <td>Subject: tw weekly , 6 - 9 - 00\\nplease see th...</td>\n",
       "      <td>0</td>\n",
       "    </tr>\n",
       "    <tr>\n",
       "      <th>...</th>\n",
       "      <td>...</td>\n",
       "      <td>...</td>\n",
       "    </tr>\n",
       "    <tr>\n",
       "      <th>5995</th>\n",
       "      <td>Subject: = ? iso - 8859 - 1 ? q ? good _ news ...</td>\n",
       "      <td>1</td>\n",
       "    </tr>\n",
       "    <tr>\n",
       "      <th>5996</th>\n",
       "      <td>Subject: all prescript medicines are on specia...</td>\n",
       "      <td>1</td>\n",
       "    </tr>\n",
       "    <tr>\n",
       "      <th>5997</th>\n",
       "      <td>Subject: the next generation online pharmacy ....</td>\n",
       "      <td>1</td>\n",
       "    </tr>\n",
       "    <tr>\n",
       "      <th>5998</th>\n",
       "      <td>Subject: bloow in 5 - 10 times the time\\nlearn...</td>\n",
       "      <td>1</td>\n",
       "    </tr>\n",
       "    <tr>\n",
       "      <th>5999</th>\n",
       "      <td>Subject: dear sir , i am interested in it\\nhi ...</td>\n",
       "      <td>1</td>\n",
       "    </tr>\n",
       "  </tbody>\n",
       "</table>\n",
       "<p>6000 rows × 2 columns</p>\n",
       "</div>"
      ],
      "text/plain": [
       "                                                   text  label\n",
       "0     Subject: key dates and impact of upcoming sap ...      0\n",
       "1     Subject: transportation to resort\\nplease be i...      0\n",
       "2     Subject: human resources organization\\nas enro...      0\n",
       "3     Subject: what do you want to know today ?\\n\" a...      0\n",
       "4     Subject: tw weekly , 6 - 9 - 00\\nplease see th...      0\n",
       "...                                                 ...    ...\n",
       "5995  Subject: = ? iso - 8859 - 1 ? q ? good _ news ...      1\n",
       "5996  Subject: all prescript medicines are on specia...      1\n",
       "5997  Subject: the next generation online pharmacy ....      1\n",
       "5998  Subject: bloow in 5 - 10 times the time\\nlearn...      1\n",
       "5999  Subject: dear sir , i am interested in it\\nhi ...      1\n",
       "\n",
       "[6000 rows x 2 columns]"
      ]
     },
     "execution_count": 8,
     "metadata": {},
     "output_type": "execute_result"
    }
   ],
   "source": [
    "newdf"
   ]
  },
  {
   "cell_type": "code",
   "execution_count": 9,
   "id": "edc7c1bd",
   "metadata": {},
   "outputs": [],
   "source": [
    "df_x = newdf[\"text\"]\n",
    "df_y = newdf[\"label\"]"
   ]
  },
  {
   "cell_type": "code",
   "execution_count": 10,
   "id": "4afcb3ef",
   "metadata": {},
   "outputs": [],
   "source": [
    "x_train, x_test, y_train, y_test = train_test_split(df_x, df_y, train_size = 0.8, test_size = 0.2, random_state = 1)"
   ]
  },
  {
   "cell_type": "code",
   "execution_count": 11,
   "id": "900519d5",
   "metadata": {},
   "outputs": [],
   "source": [
    "transfer = TfidfVectorizer(min_df=1, stop_words='english',lowercase=True)\n",
    "x_train_fit = transfer.fit_transform(x_train)\n",
    "x_test_fit = transfer.transform(x_test)"
   ]
  },
  {
   "cell_type": "code",
   "execution_count": 12,
   "id": "d3e76e1e",
   "metadata": {},
   "outputs": [
    {
     "data": {
      "text/plain": [
       "<4800x63161 sparse matrix of type '<class 'numpy.float64'>'\n",
       "\twith 463352 stored elements in Compressed Sparse Row format>"
      ]
     },
     "execution_count": 12,
     "metadata": {},
     "output_type": "execute_result"
    }
   ],
   "source": [
    "x_train_fit"
   ]
  },
  {
   "cell_type": "code",
   "execution_count": 13,
   "id": "efbf21b5",
   "metadata": {},
   "outputs": [
    {
     "data": {
      "text/plain": [
       "<1200x63161 sparse matrix of type '<class 'numpy.float64'>'\n",
       "\twith 104122 stored elements in Compressed Sparse Row format>"
      ]
     },
     "execution_count": 13,
     "metadata": {},
     "output_type": "execute_result"
    }
   ],
   "source": [
    "x_test_fit"
   ]
  },
  {
   "cell_type": "code",
   "execution_count": 14,
   "id": "10864da7",
   "metadata": {},
   "outputs": [],
   "source": [
    "y_train_mnb = y_train.astype('int')\n",
    "classifierModel = MultinomialNB()\n",
    "classifierModel.fit(x_train_fit, y_train_mnb)\n",
    "pre = classifierModel.predict(x_test_fit)"
   ]
  },
  {
   "cell_type": "code",
   "execution_count": 15,
   "id": "77011036",
   "metadata": {},
   "outputs": [],
   "source": [
    "acc = sklearn.metrics.accuracy_score(pre, y_test)"
   ]
  },
  {
   "cell_type": "code",
   "execution_count": 16,
   "id": "e8425831",
   "metadata": {},
   "outputs": [
    {
     "data": {
      "text/plain": [
       "0.9383333333333334"
      ]
     },
     "execution_count": 16,
     "metadata": {},
     "output_type": "execute_result"
    }
   ],
   "source": [
    "acc"
   ]
  },
  {
   "cell_type": "code",
   "execution_count": null,
   "id": "9b868bac",
   "metadata": {},
   "outputs": [],
   "source": []
  }
 ],
 "metadata": {
  "kernelspec": {
   "display_name": "Python 3 (ipykernel)",
   "language": "python",
   "name": "python3"
  },
  "language_info": {
   "codemirror_mode": {
    "name": "ipython",
    "version": 3
   },
   "file_extension": ".py",
   "mimetype": "text/x-python",
   "name": "python",
   "nbconvert_exporter": "python",
   "pygments_lexer": "ipython3",
   "version": "3.9.13"
  }
 },
 "nbformat": 4,
 "nbformat_minor": 5
}
